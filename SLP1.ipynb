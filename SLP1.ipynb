{
 "cells": [
  {
   "cell_type": "code",
   "execution_count": 1,
   "metadata": {},
   "outputs": [],
   "source": [
    "#-------------------------------This is approach - 1----------------------------------------"
   ]
  },
  {
   "cell_type": "code",
   "execution_count": 2,
   "metadata": {},
   "outputs": [
    {
     "name": "stdout",
     "output_type": "stream",
     "text": [
      "(16, 16)\n"
     ]
    }
   ],
   "source": [
    "import keras\n",
    "from PIL import Image, ImageOps\n",
    "import cv2\n",
    "import numpy as np\n",
    "import glob\n",
    "from sklearn.preprocessing import LabelBinarizer\n",
    "import matplotlib.pyplot as plt\n",
    "import os\n",
    "%matplotlib inline\n",
    "#---------------------These values are later used for making all pixels value either 0 or 1-----------\n",
    "threshold = 127.0\n",
    "max_value = 255.0\n",
    "#----------------------------------------------------------------\n",
    "#-----------------------loading training set images into X_train------------------------ \n",
    "filelist_t = sorted(glob.glob(r'/Users/apple/Desktop/Dataset_neuralnets_train/train/*.jpeg'))\n",
    "#    making all the values either 0 0r 1\n",
    "X_train = np.array([np.array(Image.open(fname).convert('L')) for fname in filelist_t ])\n",
    "X_train = (X_train > threshold) * max_value\n",
    "X_train = X_train / 255.\n",
    "print (X_train[0].shape)\n",
    "\n",
    "#-----------------------------------------------------------------\n",
    "#----------------------loading testing set images into X_test------------------------------ \n",
    "filelist = sorted(glob.glob(r'/Users/apple/Desktop/Dataset_neuralnets_test/test/*.jpeg'))\n",
    "X_test = np.array([np.array(Image.open(fname).convert('L')) for fname in filelist ])\n",
    "#    making all the values either 0 0r 1\n",
    "X_test = (X_test > threshold) * max_value\n",
    "X_test = X_test.astype(float) / 255.\n",
    "Y_test = []\n"
   ]
  },
  {
   "cell_type": "code",
   "execution_count": 3,
   "metadata": {},
   "outputs": [
    {
     "name": "stdout",
     "output_type": "stream",
     "text": [
      "Train dimension:\n",
      "(10, 256)\n",
      "Test dimension:\n",
      "(20, 256)\n"
     ]
    }
   ],
   "source": [
    "#-----------------------Reshaping all the images from 16*16 to 256---------------------------\n",
    "X_train = X_train.reshape((X_train.shape[0],X_train.shape[1]*X_train.shape[2]))\n",
    "X_test = X_test.reshape((X_test.shape[0],X_test.shape[1]*X_test.shape[2]))\n",
    "print('Train dimension:');print(X_train.shape)\n",
    "print('Test dimension:');print(X_test.shape)\n"
   ]
  },
  {
   "cell_type": "code",
   "execution_count": 4,
   "metadata": {},
   "outputs": [],
   "source": [
    "#------------------Initialising weight matrix and filling them with random values between -1 and 1---------------\n",
    "import random\n",
    "weights = []\n",
    "np.random.seed(0)\n",
    "weights.append(np.random.uniform(-1,1,256))\n",
    "weights = np.array(weights)\n",
    "#-------------------Reshaping the weight matrix to make it compatible with X_train and X_test---------------------\n",
    "weights = weights.reshape((256,))\n"
   ]
  },
  {
   "cell_type": "code",
   "execution_count": 5,
   "metadata": {},
   "outputs": [],
   "source": [
    "#-------------------------Here we find the number of black pixels in each number of X_train-----------\n",
    "UNIT_ARRAY = np.full((256,1),1, dtype = np.float32)\n",
    "Y_train = [] # This has the number  black pixels for each input in X_train----------------------------\n",
    "for i in range(10):\n",
    "    temp = 0\n",
    "    temp += np.dot(X_train[i],UNIT_ARRAY) + 1 \n",
    "    Y_train.append(temp) #-------Here we calculating total number of 1s (that means number of whites)\n",
    "Y_train = np.array(Y_train)\n",
    "for i in range (10):\n",
    "    Y_train[i] = 256 - Y_train[i] #--------So here we subtract it from 256 to get the number of blacks--\n",
    "#print( Y_train)"
   ]
  },
  {
   "cell_type": "code",
   "execution_count": 6,
   "metadata": {},
   "outputs": [],
   "source": [
    "#-----------------------Here we define our Activation function ------------------\n",
    "def linear_activation(x):\n",
    "    return x\n",
    "    "
   ]
  },
  {
   "cell_type": "code",
   "execution_count": 7,
   "metadata": {},
   "outputs": [],
   "source": [
    "#------------------------ Training of the model starts here ------------------\n",
    "errors = [] \n",
    "No_of_black_pix = []\n",
    "LEARNING_RATE = 0.001\n",
    "for epochs in range(10000):\n",
    "\n",
    "    for input_item,desired in zip(X_train, Y_train):\n",
    "     \n",
    "    #---------- Here we are implementing the SLP formula and calculate the SLP output-----------------\n",
    "        OUTPUT = np.dot(input_item,weights) \n",
    "        OUTPUT = np.sum(OUTPUT)\n",
    "#------------------Run OUTPUT through the linear activation function----------------------------------\n",
    "        OUTPUT =linear_activation(OUTPUT)\n",
    "#-------------------Calculate the ERROR generated-----------------------------------------------------\n",
    "        ERROR = desired - OUTPUT       \n",
    "#------------------Store the ERROR--------------------------------------------------------------------\n",
    "        errors.append(ERROR)\n",
    "        # Update the weights based on the delta rule\n",
    "        weights = weights + LEARNING_RATE * ERROR * input_item\n",
    "#-------------Here the number of black pixels are calculated with \n",
    "#--------------------------------------the new updated weights using the SLP formula------------------\n",
    "for input_item  in X_train:\n",
    "    temp_output = np.dot(input_item,weights) \n",
    "    temp_output = np.sum(temp_output)\n",
    "#--------------This No_of_black_pix is used in the next function find_nearest in testing--------------\n",
    "    No_of_black_pix.append(temp_output)"
   ]
  },
  {
   "cell_type": "code",
   "execution_count": 8,
   "metadata": {},
   "outputs": [],
   "source": [
    "#--------------This is used in corresponding the output of the SLP \n",
    "#-------------------------------with one of the input using number of black pix----------------------\n",
    "def find_nearest(x):\n",
    "        temp = []\n",
    "        for i in No_of_black_pix:\n",
    "            temp.append(abs(i-x))\n",
    "        k = temp.index(min(temp))\n",
    "        return k"
   ]
  },
  {
   "cell_type": "code",
   "execution_count": 9,
   "metadata": {},
   "outputs": [],
   "source": [
    "#----------------- This is the testing function which takes the-------------------------------------- \n",
    "#------------------------------------------numpy array set as input and returns the predicts-----------------------\n",
    "def ModelTest(TestImageSet):\n",
    "    K_train = ['B','E','F','H','I','3','4','5','9','0'] \n",
    "    test_output=[]\n",
    "    predicts = [] #-------This contains the number between 1 to 10 as the approach-1 requires\n",
    "    labels = []\n",
    "    for input_item in (TestImageSet):\n",
    "\n",
    "        # Feed this input forward and calculate the SLP output\n",
    "        output = np.dot(input_item,weights) \n",
    "        output = np.sum(output)\n",
    "        test_output.append(output)\n",
    "        predicts.append(find_nearest(output))\n",
    "\n",
    "    print (predicts)    \n",
    "    for i in predicts:\n",
    "         labels.append(K_train[i])\n",
    "    print (labels)\n",
    "    return predicts      "
   ]
  },
  {
   "cell_type": "code",
   "execution_count": 10,
   "metadata": {},
   "outputs": [
    {
     "name": "stdout",
     "output_type": "stream",
     "text": [
      "The predictions on the noiseless 20 data input are :\n",
      "[1, 0, 9, 3, 1, 2, 3, 3, 4, 3, 7, 9, 5, 6, 7, 1, 6, 2, 8, 9]\n",
      "['E', 'B', '0', 'H', 'E', 'F', 'H', 'H', 'I', 'H', '5', '0', '3', '4', '5', 'E', '4', 'F', '9', '0']\n"
     ]
    },
    {
     "data": {
      "text/plain": [
       "[1, 0, 9, 3, 1, 2, 3, 3, 4, 3, 7, 9, 5, 6, 7, 1, 6, 2, 8, 9]"
      ]
     },
     "execution_count": 10,
     "metadata": {},
     "output_type": "execute_result"
    }
   ],
   "source": [
    "# ---------------------- Testing the model with our test set ------------------------\n",
    "print(\"The predictions on the noiseless 20 data input are :\")\n",
    "ModelTest(X_test)"
   ]
  },
  {
   "cell_type": "code",
   "execution_count": 11,
   "metadata": {},
   "outputs": [],
   "source": [
    "#---------------------This function calculates ffa-----------------------------------\n",
    "def calculate_ffa(input_image,output_image):\n",
    "    wrong_blacks = 0.0\n",
    "    whites = 0.0\n",
    "    for i in range (256):\n",
    "        if(input_image[i] == 0 and output_image[i]!=0):\n",
    "            wrong_blacks = wrong_blacks + 1\n",
    "    for j in range (256):\n",
    "        if(input_image[j] == 1):\n",
    "            whites = whites + 1        \n",
    "    return wrong_blacks/whites\n",
    "    \n",
    "    "
   ]
  },
  {
   "cell_type": "code",
   "execution_count": 12,
   "metadata": {},
   "outputs": [],
   "source": [
    "#---------------------This function calculates ffa for noisy images-------------------\n",
    "def calculate_noisy_ffa(input_image,output_image):\n",
    "    wrong_blacks = 0.0\n",
    "    whites = 0.0\n",
    "    for i in range (256):\n",
    "        if(input_image[i] <= 0.5 and output_image[i]>0.5): \n",
    "            # we consider that if value is less than 0.5 then its black else its white\n",
    "            wrong_blacks = wrong_blacks + 1\n",
    "    for j in range (256):\n",
    "        if(input_image[j] > 0.5):\n",
    "            whites = whites + 1        \n",
    "    return wrong_blacks/whites\n",
    "    "
   ]
  },
  {
   "cell_type": "code",
   "execution_count": 13,
   "metadata": {},
   "outputs": [
    {
     "data": {
      "text/plain": [
       "0.193717277486911"
      ]
     },
     "execution_count": 13,
     "metadata": {},
     "output_type": "execute_result"
    }
   ],
   "source": [
    "#-----------------------This is just for example to check the functioning-----------------------------\n",
    "calculate_ffa(X_test[6],X_train[7])"
   ]
  },
  {
   "cell_type": "code",
   "execution_count": 14,
   "metadata": {},
   "outputs": [],
   "source": [
    "#---------------------This function calculates fh-----------------------------------\n",
    "def calculate_fh(input_image,output_image):\n",
    "    correct_blacks = 0.0\n",
    "    blacks = 0.0\n",
    "    for i in range (256):\n",
    "        if(input_image[i] == 0):\n",
    "            if(output_image[i] == 0):\n",
    "                correct_blacks = correct_blacks + 1\n",
    "    for j in range (256):\n",
    "        if(input_image[j] == 0):\n",
    "            blacks = blacks + 1        \n",
    "    return correct_blacks/blacks\n",
    "    "
   ]
  },
  {
   "cell_type": "code",
   "execution_count": 15,
   "metadata": {},
   "outputs": [],
   "source": [
    "#---------------------This function calculates fh for noisy images-------------------\n",
    "def calculate_noisy_fh(input_image,output_image):\n",
    "    correct_blacks = 0.0\n",
    "    blacks = 0.0\n",
    "    for i in range (256):\n",
    "        if(input_image[i] <= 0.5):# we consider that if value is less than 0.5 then its black else its white\n",
    "            if(output_image[i] <= 0.5):\n",
    "                correct_blacks = correct_blacks + 1\n",
    "    for j in range (256):\n",
    "        if(input_image[j] <= 0.5):\n",
    "            blacks = blacks + 1        \n",
    "    return correct_blacks/blacks"
   ]
  },
  {
   "cell_type": "code",
   "execution_count": 16,
   "metadata": {},
   "outputs": [
    {
     "data": {
      "text/plain": [
       "0.3157894736842105"
      ]
     },
     "execution_count": 16,
     "metadata": {},
     "output_type": "execute_result"
    }
   ],
   "source": [
    "#-----------------------This is just for example to check the functioning-----------------------------\n",
    "calculate_fh(X_train[5],X_test[13])"
   ]
  },
  {
   "cell_type": "code",
   "execution_count": 17,
   "metadata": {},
   "outputs": [
    {
     "name": "stdout",
     "output_type": "stream",
     "text": [
      "The predictions on the noiseless 20 data input are :\n",
      "[1, 0, 9, 3, 1, 2, 3, 3, 4, 3, 7, 9, 5, 6, 7, 1, 6, 2, 8, 9]\n",
      "['E', 'B', '0', 'H', 'E', 'F', 'H', 'H', 'I', 'H', '5', '0', '3', '4', '5', 'E', '4', 'F', '9', '0']\n",
      "\n",
      "\n",
      "The ffa values for Noiseless image input:\n",
      "[0.18316831683168316, 0.0, 0.11214953271028037, 0.14516129032258066, 0.0, 0.0, 0.18848167539267016, 0.0, 0.0, 0.1553398058252427, 0.15165876777251186, 0.107981220657277, 0.0, 0.0, 0.0, 0.2, 0.13425925925925927, 0.18652849740932642, 0.0, 0.0]\n",
      "The fh values for Noiseless image input:\n",
      "[0.3148148148148148, 1.0, 0.42857142857142855, 0.6142857142857143, 1.0, 1.0, 0.4461538461538462, 1.0, 1.0, 0.36, 0.28888888888888886, 0.46511627906976744, 1.0, 1.0, 1.0, 0.42424242424242425, 0.275, 0.42857142857142855, 1.0, 1.0]\n"
     ]
    }
   ],
   "source": [
    "print(\"The predictions on the noiseless 20 data input are :\")\n",
    "predicts = ModelTest(X_test)\n",
    "print ()\n",
    "print ()\n",
    "ffa_list = []\n",
    "fh_list = []\n",
    "k=0\n",
    "for i in range(20):\n",
    "    index=predicts[k]\n",
    "    ffa_list.append(calculate_ffa(X_test[i],X_train[index]))\n",
    "    fh_list.append(calculate_fh(X_test[i],X_train[index]))\n",
    "    k=k+1\n",
    "print(\"The ffa values for Noiseless image input:\")\n",
    "print (ffa_list)\n",
    "print(\"The fh values for Noiseless image input:\")\n",
    "print (fh_list)"
   ]
  },
  {
   "cell_type": "code",
   "execution_count": 18,
   "metadata": {},
   "outputs": [
    {
     "data": {
      "text/plain": [
       "Text(0.5, 1.0, 'A graph with fh on the ordinate axis and ffa on the abscissa')"
      ]
     },
     "execution_count": 18,
     "metadata": {},
     "output_type": "execute_result"
    },
    {
     "data": {
      "image/png": "[encoded data removed]",
      "text/plain": [
       "<Figure size 432x288 with 1 Axes>"
      ]
     },
     "metadata": {},
     "output_type": "display_data"
    }
   ],
   "source": [
    "#----------------------The ffa vs fh graph plotting-------------\n",
    "%matplotlib inline\n",
    "import matplotlib.pyplot as plt\n",
    "plt.style.use('seaborn-whitegrid')\n",
    "plt.plot(ffa_list,fh_list,'o',color='black', markerfacecolor='none')\n",
    "plt.xticks(np.arange(0,1,0.1))\n",
    "plt.yticks(np.arange(0,1,0.1))\n",
    "#-----------------Naming and labeling the graph---------------------\n",
    "plt.xlabel('Ffa')\n",
    "plt.ylabel('Fh')\n",
    "plt.title('A graph with fh on the ordinate axis and ffa on the abscissa')"
   ]
  },
  {
   "cell_type": "code",
   "execution_count": 19,
   "metadata": {
    "scrolled": true
   },
   "outputs": [],
   "source": [
    "#-------------------This is the gaussian noise that will be added to the input dataset-----------------------\n",
    "#----------------------This is traditional additive gaussian noise added to the image------------------------\n",
    "def gaussy(X_noisy,std_dev,m):   \n",
    "    X_noisy_temp = np.copy(X_noisy)\n",
    "    random.seed(m)\n",
    "    mean=0.0\n",
    "    random_index=random.sample(range(256), 25)\n",
    "    #print((random_index[0]))  \n",
    "    np.random.seed(m)\n",
    "    gauss=np.random.normal(mean,std_dev,(25,1,1))\n",
    "    gauss=gauss.reshape(25,)\n",
    "    #print(gauss)\n",
    "#--------------------Normalization of pixel values to be in range (0,1)-------------------------------\n",
    "    for j in range(20):\n",
    "        for i in range(25):\n",
    "            noisy_index=random_index[i]\n",
    "            X_noisy_temp[j][noisy_index]=X_noisy_temp[j][noisy_index]+gauss[i]\n",
    "#\n",
    "    for j in range(20):\n",
    "        for i in range(256):\n",
    "            X_noisy_temp[j][i] = (X_noisy_temp[j][i] - np.amin(X_noisy_temp[j]))/(np.amax(X_noisy_temp[j]) - np.amin(X_noisy_temp[j]))\n",
    "     \n",
    "    #print (X_noisy[0])\n",
    "    return X_noisy_temp"
   ]
  },
  {
   "cell_type": "code",
   "execution_count": 20,
   "metadata": {},
   "outputs": [],
   "source": [
    "#----------------Different sets of noisy inputs are generated with different \n",
    "#-------------------------------------Standard Deviation and different seed for random number generator------\n",
    "X_noisy1 = np.copy(X_test)\n",
    "Noisy_1 = gaussy(X_noisy1,0.001,0)\n",
    "Noisy_2 = gaussy(X_noisy1,0.002,1)\n",
    "Noisy_3 = gaussy(X_noisy1,0.003,2)\n",
    "Noisy_4 = gaussy(X_noisy1,0.005,3)\n",
    "Noisy_5 = gaussy(X_noisy1,0.01,4)\n",
    "Noisy_6 = gaussy(X_noisy1,0.02,5)\n",
    "Noisy_7 = gaussy(X_noisy1,0.03,6)\n",
    "Noisy_8 = gaussy(X_noisy1,0.05,7)\n",
    "Noisy_9 = gaussy(X_noisy1,0.1,8)"
   ]
  },
  {
   "cell_type": "code",
   "execution_count": 21,
   "metadata": {},
   "outputs": [],
   "source": [
    "#--------------- This is just for seeing if the noise induced input data \n",
    "#---------------------------------------is different for different Standard Deviations-----------\n",
    "#print(Noisy_1[0])\n",
    "#print(Noisy_8[0])"
   ]
  },
  {
   "cell_type": "code",
   "execution_count": 22,
   "metadata": {},
   "outputs": [
    {
     "name": "stdout",
     "output_type": "stream",
     "text": [
      "predictions for NOISY_1:\n",
      "[1, 0, 9, 3, 1, 2, 3, 3, 4, 3, 7, 9, 5, 6, 7, 1, 6, 2, 8, 9]\n",
      "['E', 'B', '0', 'H', 'E', 'F', 'H', 'H', 'I', 'H', '5', '0', '3', '4', '5', 'E', '4', 'F', '9', '0']\n",
      "predictions for NOISY_2:\n",
      "[1, 0, 9, 3, 1, 2, 3, 3, 4, 3, 7, 9, 5, 6, 7, 1, 6, 2, 8, 9]\n",
      "['E', 'B', '0', 'H', 'E', 'F', 'H', 'H', 'I', 'H', '5', '0', '3', '4', '5', 'E', '4', 'F', '9', '0']\n",
      "predictions for NOISY_3:\n",
      "[1, 0, 9, 3, 1, 2, 3, 3, 4, 3, 7, 9, 5, 6, 7, 1, 6, 2, 8, 9]\n",
      "['E', 'B', '0', 'H', 'E', 'F', 'H', 'H', 'I', 'H', '5', '0', '3', '4', '5', 'E', '4', 'F', '9', '0']\n",
      "predictions for NOISY_4:\n",
      "[1, 0, 9, 3, 1, 2, 3, 3, 4, 3, 7, 9, 5, 6, 7, 1, 6, 2, 8, 9]\n",
      "['E', 'B', '0', 'H', 'E', 'F', 'H', 'H', 'I', 'H', '5', '0', '3', '4', '5', 'E', '4', 'F', '9', '0']\n",
      "predictions for NOISY_5:\n",
      "[1, 0, 9, 3, 1, 2, 3, 3, 4, 3, 7, 1, 5, 6, 2, 1, 4, 2, 8, 9]\n",
      "['E', 'B', '0', 'H', 'E', 'F', 'H', 'H', 'I', 'H', '5', 'E', '3', '4', 'F', 'E', 'I', 'F', '9', '0']\n",
      "predictions for NOISY_6:\n",
      "[1, 0, 9, 3, 6, 5, 3, 3, 7, 3, 2, 1, 5, 4, 2, 6, 4, 2, 8, 9]\n",
      "['E', 'B', '0', 'H', '4', '3', 'H', 'H', '5', 'H', 'F', 'E', '3', 'I', 'F', '4', 'I', 'F', '9', '0']\n",
      "predictions for NOISY_7:\n",
      "[1, 0, 9, 3, 6, 5, 9, 3, 2, 3, 2, 1, 5, 4, 5, 6, 7, 5, 8, 9]\n",
      "['E', 'B', '0', 'H', '4', '3', '0', 'H', 'F', 'H', 'F', 'E', '3', 'I', '3', '4', '5', '3', '9', '0']\n",
      "predictions for NOISY_8:\n",
      "[1, 0, 9, 3, 6, 5, 9, 3, 4, 3, 5, 1, 8, 4, 5, 6, 4, 5, 8, 9]\n",
      "['E', 'B', '0', 'H', '4', '3', '0', 'H', 'I', 'H', '3', 'E', '9', 'I', '3', '4', 'I', '3', '9', '0']\n",
      "predictions for NOISY_9:\n",
      "[4, 3, 1, 9, 7, 8, 9, 9, 8, 9, 8, 4, 8, 5, 8, 2, 5, 8, 8, 6]\n",
      "['I', 'H', 'E', '0', '5', '9', '0', '0', '9', '0', '9', 'I', '9', '3', '9', 'F', '3', '9', '9', '4']\n",
      "----------------------------------------------------------------------------------------------------\n"
     ]
    }
   ],
   "source": [
    "#-----------------Below two lists contain all the ffa and fh values of all the noisy levels \n",
    "#------------------------------------------ can be accessed by using [a:b]-------------------------\n",
    "ffa_noisy_list = [] # total 180 values = 20 data  * 9 (noise levels)\n",
    "fh_noisy_list = [] # total 180 values = 20 data * 9 (noise levels)\n",
    "print(\"predictions for NOISY_1:\")\n",
    "predicts1 = ModelTest(Noisy_1)\n",
    "print(\"predictions for NOISY_2:\")\n",
    "predicts2 = ModelTest(Noisy_2)\n",
    "print(\"predictions for NOISY_3:\")\n",
    "predicts3 = ModelTest(Noisy_3)\n",
    "print(\"predictions for NOISY_4:\")\n",
    "predicts4 = ModelTest(Noisy_4)\n",
    "print(\"predictions for NOISY_5:\")\n",
    "predicts5 = ModelTest(Noisy_5)\n",
    "print(\"predictions for NOISY_6:\")\n",
    "predicts6 = ModelTest(Noisy_6)\n",
    "print(\"predictions for NOISY_7:\")\n",
    "predicts7 = ModelTest(Noisy_7)\n",
    "print(\"predictions for NOISY_8:\")\n",
    "predicts8 = ModelTest(Noisy_8)\n",
    "print(\"predictions for NOISY_9:\")\n",
    "predicts9 = ModelTest(Noisy_9)\n",
    "\n",
    "Predicts = [predicts1,predicts2,predicts3,predicts4,predicts5,predicts6,predicts7,predicts8,predicts9] \n",
    "Noisy_list = [Noisy_1,Noisy_2,Noisy_3,Noisy_4,Noisy_5,Noisy_6,Noisy_7,Noisy_8,Noisy_9]\n",
    "#------------------------appending all ffa fh of all noise levels into\n",
    "#----------------------------------------------corresponding ffa_noisy_list and fh_noisy_list---------------------\n",
    "for i,j in zip(Predicts,Noisy_list):\n",
    "    h=0\n",
    "    for k in range(20): \n",
    "        index= i[h]\n",
    "        ffa_noisy_list.append(calculate_noisy_ffa(j[k],X_train[index]))\n",
    "        fh_noisy_list.append(calculate_noisy_fh(j[k],X_train[index]))\n",
    "        h=h+1\n",
    "print('-' * 100)\n",
    "#-----------------------The below are the predictions and their respective labels\n",
    "#-----------------------------------and the correct ouputd are ['A','B','C','D','E'.....,'0']-----------------"
   ]
  },
  {
   "cell_type": "code",
   "execution_count": 23,
   "metadata": {},
   "outputs": [
    {
     "data": {
      "image/png": "[encoded data removed]",
      "text/plain": [
       "<Figure size 432x288 with 1 Axes>"
      ]
     },
     "metadata": {},
     "output_type": "display_data"
    }
   ],
   "source": [
    "#----------------------The plotting of the ffa,fh vs SD is implemented below----------------------------\n",
    "\n",
    "%matplotlib inline\n",
    "import matplotlib.pyplot as plt\n",
    "import pylab\n",
    "\n",
    "plt.style.use('seaborn-whitegrid')\n",
    "\n",
    "#---------------------------This is for the Standard deviation 0.001-----------------------------\n",
    "for i in range(0,20):\n",
    "    a = i\n",
    "    b = (i+1) \n",
    "    plt.plot(0.001,fh_noisy_list[a:b], 'o', color='black')\n",
    "    plt.plot(0.001,ffa_noisy_list[a:b], 'o', color='black', markerfacecolor='none')\n",
    "#---------------------------This is for the Standard deviation 0.002-----------------------------\n",
    "for i in range(20,40):\n",
    "    a = i\n",
    "    b = (i+1) \n",
    "    plt.plot(0.002,fh_noisy_list[a:b], 'o', color='black')\n",
    "    plt.plot(0.002,ffa_noisy_list[a:b], 'o', color='black', markerfacecolor='none')\n",
    "#---------------------------This is for the Standard deviation 0.003-----------------------------\n",
    "for i in range(40,60):\n",
    "    a = i\n",
    "    b = (i+1) \n",
    "    plt.plot(0.003,fh_noisy_list[a:b], 'o', color='black')\n",
    "    plt.plot(0.003,ffa_noisy_list[a:b], 'o', color='black', markerfacecolor='none')\n",
    "#---------------------------This is for the Standard deviation 0.005-----------------------------\n",
    "for i in range(60,80):\n",
    "    a = i\n",
    "    b = (i+1) \n",
    "    plt.plot(0.005,fh_noisy_list[a:b], 'o', color='black')\n",
    "    plt.plot(0.005,ffa_noisy_list[a:b], 'o', color='black', markerfacecolor='none')\n",
    "#---------------------------This is for the Standard deviation 0.01-----------------------------\n",
    "for i in range(80,100):\n",
    "    a = i\n",
    "    b = (i+1) \n",
    "    plt.plot(0.01,fh_noisy_list[a:b], 'o', color='black')\n",
    "    plt.plot(0.01,ffa_noisy_list[a:b], 'o', color='black', markerfacecolor='none')\n",
    "#---------------------------This is for the Standard deviation 0.02-----------------------------\n",
    "for i in range(100,120):\n",
    "    a = i\n",
    "    b = (i+1) \n",
    "    plt.plot(0.02,fh_noisy_list[a:b], 'o', color='black')\n",
    "    plt.plot(0.02,ffa_noisy_list[a:b], 'o', color='black', markerfacecolor='none')\n",
    "#---------------------------This is for the Standard deviation 0.03-----------------------------\n",
    "for i in range(120,140):\n",
    "    a = i\n",
    "    b = (i+1) \n",
    "    plt.plot(0.03,fh_noisy_list[a:b], 'o', color='black')\n",
    "    plt.plot(0.03,ffa_noisy_list[a:b], 'o', color='black', markerfacecolor='none')\n",
    "#---------------------------This is for the Standard deviation 0.05-----------------------------\n",
    "for i in range(140,160):\n",
    "    a = i\n",
    "    b = (i+1) \n",
    "    plt.plot(0.05,fh_noisy_list[a:b], 'o', color='black')\n",
    "    plt.plot(0.05,ffa_noisy_list[a:b], 'o', color='black', markerfacecolor='none')\n",
    "#---------------------------This is for the Standard deviation 0.1------------------------------\n",
    "for i in range(160,180):\n",
    "    a = i\n",
    "    b = (i+1) \n",
    "    plt.plot(0.1,fh_noisy_list[a:b], 'o', color='black')\n",
    "    plt.plot(0.1,ffa_noisy_list[a:b], 'o', color='black', markerfacecolor='none')\n",
    "    \n",
    "#--------------The x axis is logarithmically scaled as mentioned in the  requirements----------------    \n",
    "plt.xscale('log')\n",
    "plt.yticks(np.arange(0,1,0.1))\n",
    "plt.xlim([0.0009,0.1101])\n",
    "plt.ylim([0,1])\n",
    "#--------------Naming of the graph------------------\n",
    "plt.xlabel('Gaussian Noise Level, std dev, at 10 pct xsecn')\n",
    "plt.ylabel('Fh and Ffa')\n",
    "plt.title('Graph of Fh (hollow) and Ffa (solid) for noise-corrupted Alphanumeric Imagery (16 X 16 pixels)')\n",
    "plt.show()"
   ]
  },
  {
   "cell_type": "code",
   "execution_count": null,
   "metadata": {},
   "outputs": [],
   "source": []
  }
 ],
 "metadata": {
  "kernelspec": {
   "display_name": "Python 3",
   "language": "python",
   "name": "python3"
  },
  "language_info": {
   "codemirror_mode": {
    "name": "ipython",
    "version": 3
   },
   "file_extension": ".py",
   "mimetype": "text/x-python",
   "name": "python",
   "nbconvert_exporter": "python",
   "pygments_lexer": "ipython3",
   "version": "3.7.6"
  }
 },
 "nbformat": 4,
 "nbformat_minor": 4
}
